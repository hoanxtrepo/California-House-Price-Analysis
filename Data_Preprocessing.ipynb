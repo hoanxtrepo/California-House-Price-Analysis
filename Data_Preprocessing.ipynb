{
  "nbformat": 4,
  "nbformat_minor": 0,
  "metadata": {
    "colab": {
      "provenance": []
    },
    "kernelspec": {
      "name": "python3",
      "display_name": "Python 3"
    },
    "language_info": {
      "name": "python"
    }
  },
  "cells": [
    {
      "cell_type": "code",
      "execution_count": null,
      "metadata": {
        "colab": {
          "base_uri": "https://localhost:8080/"
        },
        "id": "wSTfxVogsKwg",
        "outputId": "eaca8a19-648b-44c3-c754-b9a707b0946d"
      },
      "outputs": [
        {
          "output_type": "stream",
          "name": "stdout",
          "text": [
            "Collecting pyspark\n",
            "  Downloading pyspark-3.5.2.tar.gz (317.3 MB)\n",
            "\u001b[2K     \u001b[90m━━━━━━━━━━━━━━━━━━━━━━━━━━━━━━━━━━━━━━━━\u001b[0m \u001b[32m317.3/317.3 MB\u001b[0m \u001b[31m3.3 MB/s\u001b[0m eta \u001b[36m0:00:00\u001b[0m\n",
            "\u001b[?25h  Preparing metadata (setup.py) ... \u001b[?25l\u001b[?25hdone\n",
            "Requirement already satisfied: py4j==0.10.9.7 in /usr/local/lib/python3.10/dist-packages (from pyspark) (0.10.9.7)\n",
            "Building wheels for collected packages: pyspark\n",
            "  Building wheel for pyspark (setup.py) ... \u001b[?25l\u001b[?25hdone\n",
            "  Created wheel for pyspark: filename=pyspark-3.5.2-py2.py3-none-any.whl size=317812365 sha256=dc987ae85aa685030d856770a411a440c2320856e47fb227da32632efbaae9e0\n",
            "  Stored in directory: /root/.cache/pip/wheels/34/34/bd/03944534c44b677cd5859f248090daa9fb27b3c8f8e5f49574\n",
            "Successfully built pyspark\n",
            "Installing collected packages: pyspark\n",
            "Successfully installed pyspark-3.5.2\n"
          ]
        }
      ],
      "source": [
        "!pip install pyspark"
      ]
    },
    {
      "cell_type": "code",
      "source": [
        "from google.colab import drive\n",
        "drive.mount('/content/drive')"
      ],
      "metadata": {
        "colab": {
          "base_uri": "https://localhost:8080/"
        },
        "id": "BaRYRzukDxba",
        "outputId": "322c29c4-6df6-4501-9211-1a53509f354e"
      },
      "execution_count": null,
      "outputs": [
        {
          "output_type": "stream",
          "name": "stdout",
          "text": [
            "Mounted at /content/drive\n"
          ]
        }
      ]
    },
    {
      "cell_type": "code",
      "source": [
        "import pyspark\n",
        "from pyspark.sql import SparkSession\n",
        "from pyspark.sql.functions import udf\n",
        "from pyspark.sql.types import StringType\n",
        "from pyspark.sql.functions import isnan, when, count, col\n",
        "from pyspark.sql.types import IntegerType"
      ],
      "metadata": {
        "id": "xTATNLBvE-Li"
      },
      "execution_count": null,
      "outputs": []
    },
    {
      "cell_type": "code",
      "source": [
        "spark = SparkSession.builder.appName(\"MockProject\").getOrCreate()"
      ],
      "metadata": {
        "id": "BTLm5m24Hdkc"
      },
      "execution_count": null,
      "outputs": []
    },
    {
      "cell_type": "markdown",
      "source": [
        "#Preparing the data"
      ],
      "metadata": {
        "id": "cW9XmyL1XrVF"
      }
    },
    {
      "cell_type": "markdown",
      "source": [
        "Read the csv file\n"
      ],
      "metadata": {
        "id": "ybLvvud9HnHR"
      }
    },
    {
      "cell_type": "code",
      "source": [
        "import pandas as pd\n",
        "\n",
        "df_pd = pd.read_csv(\"/content/drive/MyDrive/Mock_project_data/train.csv\")\n",
        "df_pd.head()"
      ],
      "metadata": {
        "id": "QWQLG6wrSTqL",
        "colab": {
          "base_uri": "https://localhost:8080/",
          "height": 602
        },
        "outputId": "96bebd2f-1230-4a73-b212-942c1b7ef7e7"
      },
      "execution_count": null,
      "outputs": [
        {
          "output_type": "execute_result",
          "data": {
            "text/plain": [
              "   Id            Address  Sold Price  \\\n",
              "0   0        540 Pine Ln   3825000.0   \n",
              "1   1     1727 W 67th St    505000.0   \n",
              "2   2     28093 Pine Ave    140000.0   \n",
              "3   3  10750 Braddock Dr   1775000.0   \n",
              "4   4  7415 O Donovan Rd   1175000.0   \n",
              "\n",
              "                                             Summary          Type  \\\n",
              "0  540 Pine Ln, Los Altos, CA 94022 is a single f...  SingleFamily   \n",
              "1  HURRY, HURRY.......Great house 3 bed and 2 bat...  SingleFamily   \n",
              "2  'THE PERFECT CABIN TO FLIP!  Strawberry deligh...  SingleFamily   \n",
              "3  Rare 2-story Gated 5 bedroom Modern Mediterran...  SingleFamily   \n",
              "4  Beautiful 200 acre ranch land with several pas...    VacantLand   \n",
              "\n",
              "   Year built                                       Heating  \\\n",
              "0      1969.0  Heating - 2+ Zones, Central Forced Air - Gas   \n",
              "1      1926.0                                   Combination   \n",
              "2      1958.0                                    Forced air   \n",
              "3      1947.0                                       Central   \n",
              "4         NaN                                           NaN   \n",
              "\n",
              "                                             Cooling  \\\n",
              "0    Multi-Zone, Central AC, Whole House / Attic Fan   \n",
              "1  Wall/Window Unit(s), Evaporative Cooling, See ...   \n",
              "2                                                NaN   \n",
              "3                                        Central Air   \n",
              "4                                                NaN   \n",
              "\n",
              "                                         Parking     Lot  ...  \\\n",
              "0             Garage, Garage - Attached, Covered     1.0  ...   \n",
              "1                       Detached Carport, Garage  4047.0  ...   \n",
              "2                                       0 spaces  9147.0  ...   \n",
              "3  Detached Carport, Driveway, Garage - Two Door     NaN  ...   \n",
              "4                                       0 spaces     NaN  ...   \n",
              "\n",
              "                                Parking features  Tax assessed value  \\\n",
              "0             Garage, Garage - Attached, Covered            886486.0   \n",
              "1                       Detached Carport, Garage            505000.0   \n",
              "2                                            NaN             49627.0   \n",
              "3  Detached Carport, Driveway, Garage - Two Door           1775000.0   \n",
              "4                                            NaN                 NaN   \n",
              "\n",
              "   Annual tax amount   Listed On  Listed Price  Last Sold On Last Sold Price  \\\n",
              "0            12580.0  2019-10-24     4198000.0           NaN             NaN   \n",
              "1             6253.0  2019-10-16      525000.0    2019-08-30        328000.0   \n",
              "2              468.0  2019-08-25      180000.0           NaN             NaN   \n",
              "3            20787.0  2019-10-24     1895000.0    2016-08-30       1500000.0   \n",
              "4                NaN  2019-06-07     1595000.0    2016-06-27        900000.0   \n",
              "\n",
              "          City    Zip  State  \n",
              "0    Los Altos  94022     CA  \n",
              "1  Los Angeles  90047     CA  \n",
              "2   Strawberry  95375     CA  \n",
              "3  Culver City  90230     CA  \n",
              "4      Creston  93432     CA  \n",
              "\n",
              "[5 rows x 41 columns]"
            ],
            "text/html": [
              "\n",
              "  <div id=\"df-8c3b98a0-a608-4ffa-a21d-e560b7beb31e\" class=\"colab-df-container\">\n",
              "    <div>\n",
              "<style scoped>\n",
              "    .dataframe tbody tr th:only-of-type {\n",
              "        vertical-align: middle;\n",
              "    }\n",
              "\n",
              "    .dataframe tbody tr th {\n",
              "        vertical-align: top;\n",
              "    }\n",
              "\n",
              "    .dataframe thead th {\n",
              "        text-align: right;\n",
              "    }\n",
              "</style>\n",
              "<table border=\"1\" class=\"dataframe\">\n",
              "  <thead>\n",
              "    <tr style=\"text-align: right;\">\n",
              "      <th></th>\n",
              "      <th>Id</th>\n",
              "      <th>Address</th>\n",
              "      <th>Sold Price</th>\n",
              "      <th>Summary</th>\n",
              "      <th>Type</th>\n",
              "      <th>Year built</th>\n",
              "      <th>Heating</th>\n",
              "      <th>Cooling</th>\n",
              "      <th>Parking</th>\n",
              "      <th>Lot</th>\n",
              "      <th>...</th>\n",
              "      <th>Parking features</th>\n",
              "      <th>Tax assessed value</th>\n",
              "      <th>Annual tax amount</th>\n",
              "      <th>Listed On</th>\n",
              "      <th>Listed Price</th>\n",
              "      <th>Last Sold On</th>\n",
              "      <th>Last Sold Price</th>\n",
              "      <th>City</th>\n",
              "      <th>Zip</th>\n",
              "      <th>State</th>\n",
              "    </tr>\n",
              "  </thead>\n",
              "  <tbody>\n",
              "    <tr>\n",
              "      <th>0</th>\n",
              "      <td>0</td>\n",
              "      <td>540 Pine Ln</td>\n",
              "      <td>3825000.0</td>\n",
              "      <td>540 Pine Ln, Los Altos, CA 94022 is a single f...</td>\n",
              "      <td>SingleFamily</td>\n",
              "      <td>1969.0</td>\n",
              "      <td>Heating - 2+ Zones, Central Forced Air - Gas</td>\n",
              "      <td>Multi-Zone, Central AC, Whole House / Attic Fan</td>\n",
              "      <td>Garage, Garage - Attached, Covered</td>\n",
              "      <td>1.0</td>\n",
              "      <td>...</td>\n",
              "      <td>Garage, Garage - Attached, Covered</td>\n",
              "      <td>886486.0</td>\n",
              "      <td>12580.0</td>\n",
              "      <td>2019-10-24</td>\n",
              "      <td>4198000.0</td>\n",
              "      <td>NaN</td>\n",
              "      <td>NaN</td>\n",
              "      <td>Los Altos</td>\n",
              "      <td>94022</td>\n",
              "      <td>CA</td>\n",
              "    </tr>\n",
              "    <tr>\n",
              "      <th>1</th>\n",
              "      <td>1</td>\n",
              "      <td>1727 W 67th St</td>\n",
              "      <td>505000.0</td>\n",
              "      <td>HURRY, HURRY.......Great house 3 bed and 2 bat...</td>\n",
              "      <td>SingleFamily</td>\n",
              "      <td>1926.0</td>\n",
              "      <td>Combination</td>\n",
              "      <td>Wall/Window Unit(s), Evaporative Cooling, See ...</td>\n",
              "      <td>Detached Carport, Garage</td>\n",
              "      <td>4047.0</td>\n",
              "      <td>...</td>\n",
              "      <td>Detached Carport, Garage</td>\n",
              "      <td>505000.0</td>\n",
              "      <td>6253.0</td>\n",
              "      <td>2019-10-16</td>\n",
              "      <td>525000.0</td>\n",
              "      <td>2019-08-30</td>\n",
              "      <td>328000.0</td>\n",
              "      <td>Los Angeles</td>\n",
              "      <td>90047</td>\n",
              "      <td>CA</td>\n",
              "    </tr>\n",
              "    <tr>\n",
              "      <th>2</th>\n",
              "      <td>2</td>\n",
              "      <td>28093 Pine Ave</td>\n",
              "      <td>140000.0</td>\n",
              "      <td>'THE PERFECT CABIN TO FLIP!  Strawberry deligh...</td>\n",
              "      <td>SingleFamily</td>\n",
              "      <td>1958.0</td>\n",
              "      <td>Forced air</td>\n",
              "      <td>NaN</td>\n",
              "      <td>0 spaces</td>\n",
              "      <td>9147.0</td>\n",
              "      <td>...</td>\n",
              "      <td>NaN</td>\n",
              "      <td>49627.0</td>\n",
              "      <td>468.0</td>\n",
              "      <td>2019-08-25</td>\n",
              "      <td>180000.0</td>\n",
              "      <td>NaN</td>\n",
              "      <td>NaN</td>\n",
              "      <td>Strawberry</td>\n",
              "      <td>95375</td>\n",
              "      <td>CA</td>\n",
              "    </tr>\n",
              "    <tr>\n",
              "      <th>3</th>\n",
              "      <td>3</td>\n",
              "      <td>10750 Braddock Dr</td>\n",
              "      <td>1775000.0</td>\n",
              "      <td>Rare 2-story Gated 5 bedroom Modern Mediterran...</td>\n",
              "      <td>SingleFamily</td>\n",
              "      <td>1947.0</td>\n",
              "      <td>Central</td>\n",
              "      <td>Central Air</td>\n",
              "      <td>Detached Carport, Driveway, Garage - Two Door</td>\n",
              "      <td>NaN</td>\n",
              "      <td>...</td>\n",
              "      <td>Detached Carport, Driveway, Garage - Two Door</td>\n",
              "      <td>1775000.0</td>\n",
              "      <td>20787.0</td>\n",
              "      <td>2019-10-24</td>\n",
              "      <td>1895000.0</td>\n",
              "      <td>2016-08-30</td>\n",
              "      <td>1500000.0</td>\n",
              "      <td>Culver City</td>\n",
              "      <td>90230</td>\n",
              "      <td>CA</td>\n",
              "    </tr>\n",
              "    <tr>\n",
              "      <th>4</th>\n",
              "      <td>4</td>\n",
              "      <td>7415 O Donovan Rd</td>\n",
              "      <td>1175000.0</td>\n",
              "      <td>Beautiful 200 acre ranch land with several pas...</td>\n",
              "      <td>VacantLand</td>\n",
              "      <td>NaN</td>\n",
              "      <td>NaN</td>\n",
              "      <td>NaN</td>\n",
              "      <td>0 spaces</td>\n",
              "      <td>NaN</td>\n",
              "      <td>...</td>\n",
              "      <td>NaN</td>\n",
              "      <td>NaN</td>\n",
              "      <td>NaN</td>\n",
              "      <td>2019-06-07</td>\n",
              "      <td>1595000.0</td>\n",
              "      <td>2016-06-27</td>\n",
              "      <td>900000.0</td>\n",
              "      <td>Creston</td>\n",
              "      <td>93432</td>\n",
              "      <td>CA</td>\n",
              "    </tr>\n",
              "  </tbody>\n",
              "</table>\n",
              "<p>5 rows × 41 columns</p>\n",
              "</div>\n",
              "    <div class=\"colab-df-buttons\">\n",
              "\n",
              "  <div class=\"colab-df-container\">\n",
              "    <button class=\"colab-df-convert\" onclick=\"convertToInteractive('df-8c3b98a0-a608-4ffa-a21d-e560b7beb31e')\"\n",
              "            title=\"Convert this dataframe to an interactive table.\"\n",
              "            style=\"display:none;\">\n",
              "\n",
              "  <svg xmlns=\"http://www.w3.org/2000/svg\" height=\"24px\" viewBox=\"0 -960 960 960\">\n",
              "    <path d=\"M120-120v-720h720v720H120Zm60-500h600v-160H180v160Zm220 220h160v-160H400v160Zm0 220h160v-160H400v160ZM180-400h160v-160H180v160Zm440 0h160v-160H620v160ZM180-180h160v-160H180v160Zm440 0h160v-160H620v160Z\"/>\n",
              "  </svg>\n",
              "    </button>\n",
              "\n",
              "  <style>\n",
              "    .colab-df-container {\n",
              "      display:flex;\n",
              "      gap: 12px;\n",
              "    }\n",
              "\n",
              "    .colab-df-convert {\n",
              "      background-color: #E8F0FE;\n",
              "      border: none;\n",
              "      border-radius: 50%;\n",
              "      cursor: pointer;\n",
              "      display: none;\n",
              "      fill: #1967D2;\n",
              "      height: 32px;\n",
              "      padding: 0 0 0 0;\n",
              "      width: 32px;\n",
              "    }\n",
              "\n",
              "    .colab-df-convert:hover {\n",
              "      background-color: #E2EBFA;\n",
              "      box-shadow: 0px 1px 2px rgba(60, 64, 67, 0.3), 0px 1px 3px 1px rgba(60, 64, 67, 0.15);\n",
              "      fill: #174EA6;\n",
              "    }\n",
              "\n",
              "    .colab-df-buttons div {\n",
              "      margin-bottom: 4px;\n",
              "    }\n",
              "\n",
              "    [theme=dark] .colab-df-convert {\n",
              "      background-color: #3B4455;\n",
              "      fill: #D2E3FC;\n",
              "    }\n",
              "\n",
              "    [theme=dark] .colab-df-convert:hover {\n",
              "      background-color: #434B5C;\n",
              "      box-shadow: 0px 1px 3px 1px rgba(0, 0, 0, 0.15);\n",
              "      filter: drop-shadow(0px 1px 2px rgba(0, 0, 0, 0.3));\n",
              "      fill: #FFFFFF;\n",
              "    }\n",
              "  </style>\n",
              "\n",
              "    <script>\n",
              "      const buttonEl =\n",
              "        document.querySelector('#df-8c3b98a0-a608-4ffa-a21d-e560b7beb31e button.colab-df-convert');\n",
              "      buttonEl.style.display =\n",
              "        google.colab.kernel.accessAllowed ? 'block' : 'none';\n",
              "\n",
              "      async function convertToInteractive(key) {\n",
              "        const element = document.querySelector('#df-8c3b98a0-a608-4ffa-a21d-e560b7beb31e');\n",
              "        const dataTable =\n",
              "          await google.colab.kernel.invokeFunction('convertToInteractive',\n",
              "                                                    [key], {});\n",
              "        if (!dataTable) return;\n",
              "\n",
              "        const docLinkHtml = 'Like what you see? Visit the ' +\n",
              "          '<a target=\"_blank\" href=https://colab.research.google.com/notebooks/data_table.ipynb>data table notebook</a>'\n",
              "          + ' to learn more about interactive tables.';\n",
              "        element.innerHTML = '';\n",
              "        dataTable['output_type'] = 'display_data';\n",
              "        await google.colab.output.renderOutput(dataTable, element);\n",
              "        const docLink = document.createElement('div');\n",
              "        docLink.innerHTML = docLinkHtml;\n",
              "        element.appendChild(docLink);\n",
              "      }\n",
              "    </script>\n",
              "  </div>\n",
              "\n",
              "\n",
              "<div id=\"df-ce330601-48e9-4f8f-8899-6f134b62d65e\">\n",
              "  <button class=\"colab-df-quickchart\" onclick=\"quickchart('df-ce330601-48e9-4f8f-8899-6f134b62d65e')\"\n",
              "            title=\"Suggest charts\"\n",
              "            style=\"display:none;\">\n",
              "\n",
              "<svg xmlns=\"http://www.w3.org/2000/svg\" height=\"24px\"viewBox=\"0 0 24 24\"\n",
              "     width=\"24px\">\n",
              "    <g>\n",
              "        <path d=\"M19 3H5c-1.1 0-2 .9-2 2v14c0 1.1.9 2 2 2h14c1.1 0 2-.9 2-2V5c0-1.1-.9-2-2-2zM9 17H7v-7h2v7zm4 0h-2V7h2v10zm4 0h-2v-4h2v4z\"/>\n",
              "    </g>\n",
              "</svg>\n",
              "  </button>\n",
              "\n",
              "<style>\n",
              "  .colab-df-quickchart {\n",
              "      --bg-color: #E8F0FE;\n",
              "      --fill-color: #1967D2;\n",
              "      --hover-bg-color: #E2EBFA;\n",
              "      --hover-fill-color: #174EA6;\n",
              "      --disabled-fill-color: #AAA;\n",
              "      --disabled-bg-color: #DDD;\n",
              "  }\n",
              "\n",
              "  [theme=dark] .colab-df-quickchart {\n",
              "      --bg-color: #3B4455;\n",
              "      --fill-color: #D2E3FC;\n",
              "      --hover-bg-color: #434B5C;\n",
              "      --hover-fill-color: #FFFFFF;\n",
              "      --disabled-bg-color: #3B4455;\n",
              "      --disabled-fill-color: #666;\n",
              "  }\n",
              "\n",
              "  .colab-df-quickchart {\n",
              "    background-color: var(--bg-color);\n",
              "    border: none;\n",
              "    border-radius: 50%;\n",
              "    cursor: pointer;\n",
              "    display: none;\n",
              "    fill: var(--fill-color);\n",
              "    height: 32px;\n",
              "    padding: 0;\n",
              "    width: 32px;\n",
              "  }\n",
              "\n",
              "  .colab-df-quickchart:hover {\n",
              "    background-color: var(--hover-bg-color);\n",
              "    box-shadow: 0 1px 2px rgba(60, 64, 67, 0.3), 0 1px 3px 1px rgba(60, 64, 67, 0.15);\n",
              "    fill: var(--button-hover-fill-color);\n",
              "  }\n",
              "\n",
              "  .colab-df-quickchart-complete:disabled,\n",
              "  .colab-df-quickchart-complete:disabled:hover {\n",
              "    background-color: var(--disabled-bg-color);\n",
              "    fill: var(--disabled-fill-color);\n",
              "    box-shadow: none;\n",
              "  }\n",
              "\n",
              "  .colab-df-spinner {\n",
              "    border: 2px solid var(--fill-color);\n",
              "    border-color: transparent;\n",
              "    border-bottom-color: var(--fill-color);\n",
              "    animation:\n",
              "      spin 1s steps(1) infinite;\n",
              "  }\n",
              "\n",
              "  @keyframes spin {\n",
              "    0% {\n",
              "      border-color: transparent;\n",
              "      border-bottom-color: var(--fill-color);\n",
              "      border-left-color: var(--fill-color);\n",
              "    }\n",
              "    20% {\n",
              "      border-color: transparent;\n",
              "      border-left-color: var(--fill-color);\n",
              "      border-top-color: var(--fill-color);\n",
              "    }\n",
              "    30% {\n",
              "      border-color: transparent;\n",
              "      border-left-color: var(--fill-color);\n",
              "      border-top-color: var(--fill-color);\n",
              "      border-right-color: var(--fill-color);\n",
              "    }\n",
              "    40% {\n",
              "      border-color: transparent;\n",
              "      border-right-color: var(--fill-color);\n",
              "      border-top-color: var(--fill-color);\n",
              "    }\n",
              "    60% {\n",
              "      border-color: transparent;\n",
              "      border-right-color: var(--fill-color);\n",
              "    }\n",
              "    80% {\n",
              "      border-color: transparent;\n",
              "      border-right-color: var(--fill-color);\n",
              "      border-bottom-color: var(--fill-color);\n",
              "    }\n",
              "    90% {\n",
              "      border-color: transparent;\n",
              "      border-bottom-color: var(--fill-color);\n",
              "    }\n",
              "  }\n",
              "</style>\n",
              "\n",
              "  <script>\n",
              "    async function quickchart(key) {\n",
              "      const quickchartButtonEl =\n",
              "        document.querySelector('#' + key + ' button');\n",
              "      quickchartButtonEl.disabled = true;  // To prevent multiple clicks.\n",
              "      quickchartButtonEl.classList.add('colab-df-spinner');\n",
              "      try {\n",
              "        const charts = await google.colab.kernel.invokeFunction(\n",
              "            'suggestCharts', [key], {});\n",
              "      } catch (error) {\n",
              "        console.error('Error during call to suggestCharts:', error);\n",
              "      }\n",
              "      quickchartButtonEl.classList.remove('colab-df-spinner');\n",
              "      quickchartButtonEl.classList.add('colab-df-quickchart-complete');\n",
              "    }\n",
              "    (() => {\n",
              "      let quickchartButtonEl =\n",
              "        document.querySelector('#df-ce330601-48e9-4f8f-8899-6f134b62d65e button');\n",
              "      quickchartButtonEl.style.display =\n",
              "        google.colab.kernel.accessAllowed ? 'block' : 'none';\n",
              "    })();\n",
              "  </script>\n",
              "</div>\n",
              "\n",
              "    </div>\n",
              "  </div>\n"
            ],
            "application/vnd.google.colaboratory.intrinsic+json": {
              "type": "dataframe",
              "variable_name": "df_pd"
            }
          },
          "metadata": {},
          "execution_count": 3
        }
      ]
    },
    {
      "cell_type": "code",
      "source": [
        "df_pd.info()"
      ],
      "metadata": {
        "id": "OtNwHxiY9xoI",
        "colab": {
          "base_uri": "https://localhost:8080/"
        },
        "outputId": "ec14dc60-acd9-4d16-a880-d16d8fd7e990"
      },
      "execution_count": null,
      "outputs": [
        {
          "output_type": "stream",
          "name": "stdout",
          "text": [
            "<class 'pandas.core.frame.DataFrame'>\n",
            "RangeIndex: 47439 entries, 0 to 47438\n",
            "Data columns (total 41 columns):\n",
            " #   Column                       Non-Null Count  Dtype  \n",
            "---  ------                       --------------  -----  \n",
            " 0   Id                           47439 non-null  int64  \n",
            " 1   Address                      47439 non-null  object \n",
            " 2   Sold Price                   47439 non-null  float64\n",
            " 3   Summary                      47085 non-null  object \n",
            " 4   Type                         47439 non-null  object \n",
            " 5   Year built                   46394 non-null  float64\n",
            " 6   Heating                      40587 non-null  object \n",
            " 7   Cooling                      26745 non-null  object \n",
            " 8   Parking                      46065 non-null  object \n",
            " 9   Lot                          33258 non-null  float64\n",
            " 10  Bedrooms                     44567 non-null  object \n",
            " 11  Bathrooms                    43974 non-null  float64\n",
            " 12  Full bathrooms               39574 non-null  float64\n",
            " 13  Total interior livable area  44913 non-null  float64\n",
            " 14  Total spaces                 46523 non-null  float64\n",
            " 15  Garage spaces                46522 non-null  float64\n",
            " 16  Region                       47437 non-null  object \n",
            " 17  Elementary School            42697 non-null  object \n",
            " 18  Elementary School Score      42543 non-null  float64\n",
            " 19  Elementary School Distance   42697 non-null  float64\n",
            " 20  Middle School                30735 non-null  object \n",
            " 21  Middle School Score          30734 non-null  float64\n",
            " 22  Middle School Distance       30735 non-null  float64\n",
            " 23  High School                  42439 non-null  object \n",
            " 24  High School Score            42220 non-null  float64\n",
            " 25  High School Distance         42438 non-null  float64\n",
            " 26  Flooring                     35870 non-null  object \n",
            " 27  Heating features             39746 non-null  object \n",
            " 28  Cooling features             25216 non-null  object \n",
            " 29  Appliances included          33846 non-null  object \n",
            " 30  Laundry features             32828 non-null  object \n",
            " 31  Parking features             42664 non-null  object \n",
            " 32  Tax assessed value           43787 non-null  float64\n",
            " 33  Annual tax amount            43129 non-null  float64\n",
            " 34  Listed On                    47439 non-null  object \n",
            " 35  Listed Price                 47439 non-null  float64\n",
            " 36  Last Sold On                 29673 non-null  object \n",
            " 37  Last Sold Price              29673 non-null  float64\n",
            " 38  City                         47439 non-null  object \n",
            " 39  Zip                          47439 non-null  int64  \n",
            " 40  State                        47439 non-null  object \n",
            "dtypes: float64(18), int64(2), object(21)\n",
            "memory usage: 14.8+ MB\n"
          ]
        }
      ]
    },
    {
      "cell_type": "code",
      "source": [
        "df = spark.read.csv(\"/content/drive/MyDrive/Mock_project_data/train2.csv\", sep ='\\t', header=True, inferSchema=True)"
      ],
      "metadata": {
        "id": "9T1uB8wB9T3B"
      },
      "execution_count": null,
      "outputs": []
    },
    {
      "cell_type": "code",
      "source": [
        "df.select('sold price','lot','Total interior livable area').show()"
      ],
      "metadata": {
        "colab": {
          "base_uri": "https://localhost:8080/"
        },
        "id": "Lw87OtjpVjHc",
        "outputId": "e3d3627b-c380-4e21-d348-d02a5f09f1a8"
      },
      "execution_count": null,
      "outputs": [
        {
          "output_type": "stream",
          "name": "stdout",
          "text": [
            "+----------+---------+---------------------------+\n",
            "|sold price|      lot|Total interior livable area|\n",
            "+----------+---------+---------------------------+\n",
            "| 3825000.0|      1.0|                        1.0|\n",
            "|  505000.0|   4047.0|                      872.0|\n",
            "|  140000.0|   9147.0|                     1152.0|\n",
            "| 1775000.0|     NULL|                     2612.0|\n",
            "| 1175000.0|     NULL|                       NULL|\n",
            "|  221000.0|   3576.0|                     1311.0|\n",
            "| 1589000.0|     NULL|                       NULL|\n",
            "|  480000.0|1771149.6|                     2519.0|\n",
            "| 1590000.0|     NULL|                     1601.0|\n",
            "| 1275000.0|  66211.2|                     2123.0|\n",
            "| 1310000.0|   7570.0|                     1579.0|\n",
            "|  810000.0|    653.0|                     1393.0|\n",
            "| 2100000.0|   3998.0|                     3351.0|\n",
            "|  565000.0|   4800.0|                     1292.0|\n",
            "|  185000.0|   7662.0|                     1272.0|\n",
            "| 1155500.0|     NULL|                       NULL|\n",
            "| 1750000.0|     NULL|                     3900.0|\n",
            "|  900000.0|     NULL|                     1078.0|\n",
            "| 2290000.0|   6952.0|                     2100.0|\n",
            "|  415000.0|   2621.0|                      634.0|\n",
            "+----------+---------+---------------------------+\n",
            "only showing top 20 rows\n",
            "\n"
          ]
        }
      ]
    },
    {
      "cell_type": "code",
      "source": [
        "filtered_df = df.filter(col(\"Total interior livable area\") < 100).orderBy('Sold Price', ascending = False)\n",
        "filtered_df.show()"
      ],
      "metadata": {
        "colab": {
          "base_uri": "https://localhost:8080/"
        },
        "id": "h9A5WIDJXb8D",
        "outputId": "37fef530-896a-4a1e-8879-1686604234dd"
      },
      "execution_count": null,
      "outputs": [
        {
          "output_type": "stream",
          "name": "stdout",
          "text": [
            "+---+----------+----+----------+-------+-------+--------+---------+---------------------------+-------------+-----------------+---------+------------+----+---+-----+---+------------+\n",
            "| Id|Sold price|type|Year built|heating|cooling|bedrooms|Bathrooms|Total interior livable area|Garage spaces|Annual tax amount|Listed on|Listed price|City|Zip|State|Age|Price per ft|\n",
            "+---+----------+----+----------+-------+-------+--------+---------+---------------------------+-------------+-----------------+---------+------------+----+---+-----+---+------------+\n",
            "+---+----------+----+----------+-------+-------+--------+---------+---------------------------+-------------+-----------------+---------+------------+----+---+-----+---+------------+\n",
            "\n"
          ]
        }
      ]
    },
    {
      "cell_type": "code",
      "source": [],
      "metadata": {
        "id": "5ZInV8A_p7U0"
      },
      "execution_count": null,
      "outputs": []
    },
    {
      "cell_type": "code",
      "source": [
        "filtered_df.count()"
      ],
      "metadata": {
        "colab": {
          "base_uri": "https://localhost:8080/"
        },
        "id": "47KwE5_0YQsi",
        "outputId": "4c25b051-f536-4a82-c24c-33b3c579025c"
      },
      "execution_count": null,
      "outputs": [
        {
          "output_type": "execute_result",
          "data": {
            "text/plain": [
              "31"
            ]
          },
          "metadata": {},
          "execution_count": 21
        }
      ]
    },
    {
      "cell_type": "code",
      "source": [
        "house_list = [\"Detached, 2 Story\",\n",
        "        \"Detached, 4+ Story\",\n",
        "        \"SingleFamily\",\n",
        "         \"Detached, 3 Story\",\n",
        "        \"4+ Story\",\n",
        "        \"3 Level, Live/Work\",\n",
        "        \"Townhouse\",\n",
        "        \"3 Story, Duplex, House & Apartments, Townhouses\",\n",
        "        \"Luxury, Townhouse\",\n",
        "                  \"Manufactured Home\",\n",
        "        \"Mobile Home\",\n",
        "        \"MobileManufactured\",\n",
        "                      \"Studio\",\n",
        "        \"Top Floor, Studio\",\"...\"\n",
        "              ]\n",
        "for i in house_list:\n",
        "  print(i)"
      ],
      "metadata": {
        "colab": {
          "base_uri": "https://localhost:8080/"
        },
        "id": "_eANl5EBp8JF",
        "outputId": "ddf9bd7a-770e-4855-f0c6-b4246cb91f78"
      },
      "execution_count": null,
      "outputs": [
        {
          "output_type": "stream",
          "name": "stdout",
          "text": [
            "Detached, 2 Story\n",
            "Detached, 4+ Story\n",
            "SingleFamily\n",
            "Detached, 3 Story\n",
            "4+ Story\n",
            "3 Level, Live/Work\n",
            "Townhouse\n",
            "3 Story, Duplex, House & Apartments, Townhouses\n",
            "Luxury, Townhouse\n",
            "Manufactured Home\n",
            "Mobile Home\n",
            "MobileManufactured\n",
            "Studio\n",
            "Top Floor, Studio\n",
            "...\n"
          ]
        }
      ]
    },
    {
      "cell_type": "code",
      "source": [
        "\n",
        "df = df.drop('Total spaces', 'Elementary School','Appliances included','Parking','Elementary School Score','Elementary School Distance','Lot','Laundry features', 'Parking features' ,'Tax assessed value', 'Full bathrooms' , 'Middle School','Middle School Score','Middle School Distance', 'High School','High School Score','High School Distance', 'Heating features','Cooling features','Flooring','Region', 'Last Sold On','Last Sold Price','Address','Summary')\n",
        "\n",
        "central = ['force', 'radiant', 'central','infloor', 'wall', 'furnace'] #Central: Dung cho ca nha\n",
        "local = ['baseboard', 'space', 'heater','wood', 'fire', 'stove','pellet'] #Dung cho mot khu vuc nhat dinh\n",
        "ac = ['conditioner','ac','central'] #Central: Dung cho ca nha\n",
        "local = ['fan','electric'] #Dung cho mot khu vuc nhat dinh\n",
        "housing_types = {\n",
        "    \"Single-Family\": [\n",
        "        \"Detached, 2 Story\",\n",
        "        \"Detached, 4+ Story\",\n",
        "        \"SingleFamily\",\n",
        "        \"Top Floor, 2 Level\",\n",
        "        \"Semi-Attached\",\n",
        "        \"Detached, 3 Story\",\n",
        "        \"1 Level\",\n",
        "        \"Low-Rise (1-3), Full\",\n",
        "        \"Ranch\",\n",
        "        \"31\",\n",
        "        \"4+ Story\",\n",
        "        \"1 Level, Top Floor\",\n",
        "        \"3 Level, Live/Work\",\n",
        "        \"New Construction, Mid-Rise (4-8), Unit Above, 4+ Level\",\n",
        "        \"Top Floor, 2 Level\",\n",
        "        \"2 Story, Full\",\n",
        "        \"Detached, Full\",\n",
        "        \"Manufactured on Land\",\n",
        "        \"Low-Rise (1-3)\",\n",
        "        \"1 Level, Luxury, Low-Rise (1-3), End Unit\",\n",
        "        \"Mid-Rise (4-8), Live/Work\",\n",
        "        \"2 Level, Semi-Attached\",\n",
        "        \"2 Story, Full, Attached\",\n",
        "        \"1 Level, Unit Above, Ground Floor\",\n",
        "        \"1 Level, Top Floor, Unit Below, Low-Rise (1-3), Full\",\n",
        "        \"Top Floor\",\n",
        "    ],\n",
        "    \"Condominiums\": [\n",
        "        \"Condo\",\n",
        "        \"Mid-Rise (4-8), Unit Below, Unit Above, 3 Level\",\n",
        "        \"1 Level, Unit Above, Ground Floor\",\n",
        "        \"Unit Below, Low-Rise (1-3), Full, Unit Above, Attached\",\n",
        "        \"Top Floor, Unit Below, 2 Level, Low-Rise (1-3)\",\n",
        "        \"New Construction, Low-Rise (1-3)\",\n",
        "        \"Residential Lot\",\n",
        "        \"Luxury, Flat\",\n",
        "        \"Luxury, Top Floor, Low-Rise (1-3), Detached\",\n",
        "        \"Top Floor, Unit Below, 2 Level, Low-Rise (1-3)\",\n",
        "        \"Top Floor, Unit Below, End Unit\",\n",
        "    ],\n",
        "    \"Townhouses\": [\n",
        "        \"Townhouse\",\n",
        "        \"3 Story, Duplex, House & Apartments, Townhouses\",\n",
        "        \"Luxury, Townhouse\",\n",
        "        \"Luxury, Townhouse, Low-Rise (1-3), Penthouse\",\n",
        "        \"2 Story, Full, Attached\",\n",
        "    ],\n",
        "    \"Apartments\": [\n",
        "        \"Apartment\",\n",
        "        \"3 Story, Duplex, House & Apartments, Townhouses\",\n",
        "        \"Hi-Rise (9+), Unit Above\",\n",
        "        \"3 Story\",\n",
        "        \"Hi-Rise (9+)\",\n",
        "        \"Top Floor, Unit Below, Flat\",\n",
        "        \"2 Houses\",\n",
        "        \"Studio\",\n",
        "        \"2+ RESIDENCES\",\n",
        "        \"Mid-Rise (4-8), Live/Work\",\n",
        "        \"OTHER\",\n",
        "        \"1 Level, Unit Above, Ground Floor\",\n",
        "        \"1 Level, Top Floor, Unit Below, Low-Rise (1-3), Full\",\n",
        "        \"Duplex\",\n",
        "    ],\n",
        "    \"Mobile Homes\": [\n",
        "        \"Manufactured Home\",\n",
        "        \"Mobile Home\",\n",
        "        \"MobileManufactured\",\n",
        "        \"Manufactured on Land\"\n",
        "    ],\n",
        "    \"Tiny Homes\": [\n",
        "        \"Studio\",\n",
        "        \"Top Floor, Studio\"\n",
        "    ]\n",
        "}\n",
        "\n",
        "def is_type(heating, list_type):\n",
        "  for key in list_type:\n",
        "    if key in heating.lower():\n",
        "      return True\n",
        "  return False\n",
        "\n",
        "def categorize_heating(heating):\n",
        "  if is_type(heating,central):\n",
        "    return \"central\"\n",
        "  elif is_type(heating,local):\n",
        "    return \"local\"\n",
        "  else:\n",
        "    return \"other\"\n",
        "\n",
        "def categorize_cooling(cooling):\n",
        "  if is_type(cooling,central):\n",
        "    return \"air conditioner\"\n",
        "  elif is_type(cooling,local):\n",
        "    return \"fan\"\n",
        "  else:\n",
        "    return \"other\"\n",
        "\n",
        "def categorize_house(house):\n",
        "  for house_type in housing_types.keys():\n",
        "    if house in housing_types[house_type]:\n",
        "      return house_type\n",
        "\n",
        "def categorize_bedroom(room):\n",
        "  if (room>='0') and (room <= '9'):\n",
        "    return int(room)\n",
        "  else:\n",
        "    return 2\n",
        "\n",
        "def change_time(date):\n",
        "  return int(date.split('-')[0])\n",
        "\n",
        "#fill null\n",
        "df = df.fillna(\"none\", subset=[\"heating\",\"cooling\"])\n",
        "#categorize heating\n",
        "my_udf_func = udf(categorize_heating, StringType())\n",
        "df = df.withColumn(\"heating\", my_udf_func(col(\"heating\")))\n",
        "#categorize heating\n",
        "my_udf_func = udf(categorize_cooling, StringType())\n",
        "df = df.withColumn(\"cooling\", my_udf_func(col(\"cooling\")))\n",
        "#drop null values\n",
        "df = df.dropna(how='any')\n",
        "#categorize house type\n",
        "my_udf_func = udf(categorize_house, StringType())\n",
        "df = df.withColumn(\"type\", my_udf_func(col(\"type\")))\n",
        "#categorize bedrooms\n",
        "my_udf_func = udf(categorize_bedroom, StringType())\n",
        "df = df.withColumn(\"bedrooms\", my_udf_func(col(\"bedrooms\")))\n",
        "\n",
        "#change time column\n",
        "my_udf_func = udf(change_time, IntegerType())\n",
        "df = df.withColumn(\"Listed on\", my_udf_func(col(\"Listed on\")))\n",
        "\n",
        "#change price\n",
        "\n",
        "df = df.withColumn(\"Year built\", df[\"Year built\"].cast(\"int\"))\n",
        "\n",
        "#add age column\n",
        "df = df.withColumn(\"Age\", 2024 -df[\"Year built\"] )\n",
        "df = df.withColumn(\"Price per ft\", df[\"Sold price\"]  / df[\"Total interior livable area\"])\n",
        "\n",
        "df = df.withColumn(\"Sold price\", df[\"Sold price\"].cast(\"double\"))\n",
        "df = df.withColumn(\"Listed price\", df[\"Listed price\"].cast(\"double\"))\n",
        "\n",
        "#drop outlier\n",
        "df = df.filter(col(\"Total interior livable area\") >= 500)"
      ],
      "metadata": {
        "id": "clLEy39M574o"
      },
      "execution_count": null,
      "outputs": []
    },
    {
      "cell_type": "code",
      "source": [
        "df.show()"
      ],
      "metadata": {
        "colab": {
          "base_uri": "https://localhost:8080/"
        },
        "id": "HQlveTauEiE5",
        "outputId": "d3151dc6-3376-45fe-e7ff-499dd78b92f5"
      },
      "execution_count": null,
      "outputs": [
        {
          "output_type": "stream",
          "name": "stdout",
          "text": [
            "+---+----------+-------------+----------+-------+---------------+--------+---------+---------------------------+-------------+-----------------+---------+------------+-------------+-----+-----+---+\n",
            "| Id|Sold price|         type|Year built|heating|        cooling|bedrooms|Bathrooms|Total interior livable area|Garage spaces|Annual tax amount|Listed on|Listed price|         City|  Zip|State|Age|\n",
            "+---+----------+-------------+----------+-------+---------------+--------+---------+---------------------------+-------------+-----------------+---------+------------+-------------+-----+-----+---+\n",
            "|  0| 3825000.0|Single-Family|      1969|central|air conditioner|       2|      0.0|                        1.0|          0.0|          12580.0|     2019|   4198000.0|    Los Altos|94022|   CA| 55|\n",
            "|  1|  505000.0|Single-Family|      1926|  other|air conditioner|       3|      2.0|                      872.0|          1.0|           6253.0|     2019|    525000.0|  Los Angeles|90047|   CA| 98|\n",
            "|  2|  140000.0|Single-Family|      1958|central|          other|       2|      3.0|                     1152.0|          0.0|            468.0|     2019|    180000.0|   Strawberry|95375|   CA| 66|\n",
            "|  3| 1775000.0|Single-Family|      1947|central|air conditioner|       5|      3.0|                     2612.0|          0.0|          20787.0|     2019|   1895000.0|  Culver City|90230|   CA| 77|\n",
            "|  5|  221000.0|Single-Family|      1905|central|          other|       3|      2.0|                     1311.0|          0.0|           2531.0|     2019|    224900.0|     Stockton|95202|   CA|119|\n",
            "|  8| 1590000.0| Condominiums|      2001|  other|          other|       4|      3.0|                     1601.0|          1.0|          13793.0|     2019|   1650000.0|San Francisco|94121|   CA| 23|\n",
            "|  9| 1275000.0|Single-Family|      1973|central|          other|       0|      2.0|                     2123.0|          0.0|           1909.0|     2019|   1050000.0|        Aptos|95003|   CA| 51|\n",
            "| 10| 1310000.0|Single-Family|      1953|central|air conditioner|       4|      2.0|                     1579.0|          2.0|            904.0|     2019|   1428000.0|  Santa Clara|95050|   CA| 71|\n",
            "| 11|  810000.0|   Townhouses|      2002|central|air conditioner|       3|      2.0|                     1393.0|          2.0|           9272.0|     2019|    849000.0|     San Jose|95128|   CA| 22|\n",
            "| 12| 2100000.0|Single-Family|      1926|  other|          other|       6|      3.0|                     3351.0|          2.0|          25099.0|     2019|   2250000.0|San Francisco|94116|   CA| 98|\n",
            "| 13|  565000.0|Single-Family|      1923|central|          other|       3|      2.0|                     1292.0|          0.0|           5734.0|     2019|    565000.0|  Los Angeles|90047|   CA|101|\n",
            "| 14|  185000.0|Single-Family|      1947|central|            fan|       2|      2.0|                     1272.0|          0.0|           1586.0|     2019|    187500.0|     Snelling|95369|   CA| 77|\n",
            "| 17|  900000.0|   Apartments|      1986|central|          other|       2|      2.0|                     1078.0|          2.0|           3125.0|     2019|    888000.0|    Sunnyvale|94085|   CA| 38|\n",
            "| 18| 2290000.0|Single-Family|      1939|central|air conditioner|       3|      2.0|                     2100.0|          0.0|          21521.0|     2019|   2390000.0|    San Mateo|94402|   CA| 85|\n",
            "| 19|  415000.0|Single-Family|      1949|central|          other|       2|      1.0|                      634.0|          0.0|           3416.0|     2019|    430000.0|      Compton|90220|   CA| 75|\n",
            "| 20|  335000.0| Condominiums|      1988|central|air conditioner|       3|      3.0|                     1612.0|          2.0|           7418.0|     2019|    320000.0|      Compton|90220|   CA| 36|\n",
            "| 21| 1380000.0|Single-Family|      1922|  other|          other|       2|      1.0|                     1293.0|          1.0|          17314.0|     2019|   1288000.0|San Francisco|94122|   CA|102|\n",
            "| 22|  360000.0|Single-Family|      1920|central|          other|       3|      2.0|                     1644.0|          0.0|           2093.0|     2019|    386000.0|     Carlotta|95528|   CA|104|\n",
            "| 23| 1600000.0|Single-Family|      1952|central|air conditioner|       3|      2.0|                     1350.0|          0.0|           6434.0|     2019|   1499000.0|   San Carlos|94070|   CA| 72|\n",
            "| 25|  945000.0|Single-Family|      1956|central|          other|       3|      2.0|                     1105.0|          2.0|           8230.0|     2019|    938000.0|     San Jose|95124|   CA| 68|\n",
            "+---+----------+-------------+----------+-------+---------------+--------+---------+---------------------------+-------------+-----------------+---------+------------+-------------+-----+-----+---+\n",
            "only showing top 20 rows\n",
            "\n"
          ]
        }
      ]
    },
    {
      "cell_type": "code",
      "source": [
        "from pyspark.sql.functions import avg\n",
        "\n",
        "agg_df = df.groupBy(\"City\").agg(avg(col(\"Price per ft\"))).alias(\"average price\").orderBy(\"avg(Price per ft)\", ascending = False)\n",
        "agg_df.show()"
      ],
      "metadata": {
        "colab": {
          "base_uri": "https://localhost:8080/"
        },
        "id": "lQ4OXn2GGzc4",
        "outputId": "dab38f4a-8c18-4a0f-bd04-2cced4d70383"
      },
      "execution_count": null,
      "outputs": [
        {
          "output_type": "stream",
          "name": "stdout",
          "text": [
            "+----------------+------------------+\n",
            "|            City| avg(Price per ft)|\n",
            "+----------------+------------------+\n",
            "|          Malibu|3440.9694818526636|\n",
            "|          Rialto|2224.1199530338886|\n",
            "|        Atherton|1914.4173192071014|\n",
            "|   Stinson Beach| 1887.055770404845|\n",
            "|South Lake Tahoe| 1686.999512647772|\n",
            "|   Beverly Hills| 1654.762046534476|\n",
            "|   Newport Beach|1576.0183465580344|\n",
            "|         Big Sur|1569.6676567868415|\n",
            "|        Marshall|   1529.4823127466|\n",
            "|    Pebble Beach|1465.1101552036077|\n",
            "|       Palo Alto|1426.4024905982362|\n",
            "|   Hermosa Beach|1338.8120801613243|\n",
            "|       Los Altos|1326.2838105771698|\n",
            "|      Menlo Park|  1319.91116731362|\n",
            "|  Portola Valley|1245.9244436646047|\n",
            "|     Carpinteria|1229.0848829615916|\n",
            "|         Bolinas| 1228.108813754573|\n",
            "|            Ross|1224.4744605302533|\n",
            "|      Rutherford|1192.2892845970557|\n",
            "|       Cupertino|1177.9926701800612|\n",
            "+----------------+------------------+\n",
            "only showing top 20 rows\n",
            "\n"
          ]
        }
      ]
    },
    {
      "cell_type": "code",
      "source": [
        "unique_values = df.select(\"type\").distinct().collect()\n",
        "print(unique_values)"
      ],
      "metadata": {
        "colab": {
          "base_uri": "https://localhost:8080/"
        },
        "id": "cEN_ij0YoBxf",
        "outputId": "a1f17752-8fb9-49e7-c428-fab7ce1a67ef"
      },
      "execution_count": null,
      "outputs": [
        {
          "output_type": "stream",
          "name": "stdout",
          "text": [
            "[Row(type='Apartments'), Row(type='Condominiums'), Row(type='Single-Family'), Row(type='Mobile Homes'), Row(type='Townhouses'), Row(type=None)]\n"
          ]
        }
      ]
    },
    {
      "cell_type": "code",
      "source": [
        "filtered_df = df.filter(col(\"Listed price\") < col(\"Sold price\")).orderBy('Sold Price', ascending = False)\n",
        "filtered_df.show()"
      ],
      "metadata": {
        "colab": {
          "base_uri": "https://localhost:8080/"
        },
        "id": "ysFiC-1Jz0C7",
        "outputId": "e795463a-0a67-4b48-9777-398259cc9a54"
      },
      "execution_count": null,
      "outputs": [
        {
          "output_type": "stream",
          "name": "stdout",
          "text": [
            "+-----+----------+-------------+----------+-------+---------------+--------+---------+---------------------------+-------------+-----------------+---------+------------+-------------+-----+-----+---+------------------+\n",
            "|   Id|Sold price|         type|Year built|heating|        cooling|bedrooms|Bathrooms|Total interior livable area|Garage spaces|Annual tax amount|Listed on|Listed price|         City|  Zip|State|Age|      Price per ft|\n",
            "+-----+----------+-------------+----------+-------+---------------+--------+---------+---------------------------+-------------+-----------------+---------+------------+-------------+-----+-----+---+------------------+\n",
            "|43398|     9.0E7|Single-Family|      1985|  other|air conditioner|       4|      6.0|                     6449.0|          1.0|           9752.0|     2013|    550000.0|       Rialto|92377|   CA| 39|13955.652039075825|\n",
            "| 3674|     6.0E7|Single-Family|      2020|central|air conditioner|      10|     11.0|                    21973.0|         10.0|          16542.0|     2016|    1.9995E7|  Los Angeles|90077|   CA|  4|2730.6239475720204|\n",
            "|47368|   3.955E7|Single-Family|      1998|  other|air conditioner|       4|      6.0|                     5000.0|          0.0|         292386.0|     2010|     2.395E7|       Malibu|90263|   CA| 26|            7910.0|\n",
            "|20332|   3.675E7|Single-Family|      1933|central|air conditioner|       4|      4.0|                     4000.0|          2.0|         180221.0|     2013|    1.4995E7|     Atherton|94027|   CA| 91|            9187.5|\n",
            "|39560|    3.58E7|   Townhouses|      2017|central|air conditioner|       2|      3.0|                     1585.0|          0.0|           9350.0|     2018|   2550000.0|Beverly Hills|90212|   CA|  7|22586.750788643534|\n",
            "|39510|    3.58E7|   Townhouses|      2015|central|air conditioner|       2|      3.0|                     1478.0|          0.0|           8899.0|     2018|   2400000.0|Beverly Hills|90212|   CA|  9| 24221.92151556157|\n",
            "|39525|    3.58E7| Condominiums|      2017|central|air conditioner|       2|      3.0|                     1575.0|          0.0|           9343.0|     2018|   2550000.0|Beverly Hills|90212|   CA|  7| 22730.15873015873|\n",
            "|39572|    3.58E7| Condominiums|      2015|central|air conditioner|       1|      2.0|                     1401.0|          0.0|           7378.0|     2018|   2250000.0|Beverly Hills|90212|   CA|  9| 25553.17630264097|\n",
            "|39574|    3.58E7| Condominiums|      2017|central|air conditioner|       3|      3.0|                     1959.0|          0.0|          11334.0|     2018|   3250000.0|Beverly Hills|90212|   CA|  7| 18274.62991322103|\n",
            "|39591|    3.58E7| Condominiums|      2015|central|air conditioner|       3|      3.0|                     2209.0|          3.0|          13101.0|     2018|   3850000.0|Beverly Hills|90212|   CA|  9|16206.428248076052|\n",
            "|39634|    3.58E7| Condominiums|      2015|central|air conditioner|       2|      3.0|                     1460.0|          2.0|           8673.0|     2018|   1900000.0|Beverly Hills|90212|   CA|  9| 24520.54794520548|\n",
            "|24015|     2.6E7|Single-Family|      2014|  other|air conditioner|       7|     10.0|                    12500.0|          1.0|         248885.0|     2014|    1.9995E7|  Los Angeles|90077|   CA| 10|            2080.0|\n",
            "|19380|     2.3E7|Single-Family|      2015|central|air conditioner|       6|     10.0|                    11160.0|          0.0|         234163.0|     2019|      2.25E7|     Atherton|94027|   CA|  9|2060.9318996415773|\n",
            "|23757|   2.292E7|Single-Family|      2003|  other|          other|       4|      7.0|                    10198.0|          0.0|         129144.0|     2012|     1.495E7|     Atherton|94027|   CA| 21| 2247.499509707786|\n",
            "|18549|     2.2E7|Single-Family|      1958|  other|air conditioner|       0|      0.0|                     8202.0|          1.0|         176854.0|     2011|    1.1995E7|Beverly Hills|90210|   CA| 66| 2682.272616435016|\n",
            "|22413|    2.17E7|Single-Family|      1963|central|air conditioner|       5|      8.0|                    10044.0|          5.0|         251950.0|     2018|    2.0995E7|  Los Angeles|90049|   CA| 61|2160.4938271604938|\n",
            "|22503| 2.16595E7|Single-Family|      1939|  other|          other|       5|      7.0|                     6058.0|          0.0|         163197.0|     2013|    1.1995E7|  Los Angeles|90049|   CA| 85|3575.3549026081214|\n",
            "|11163|     2.0E7|Single-Family|      2009|central|air conditioner|       7|      8.0|                    10560.0|          2.0|         239622.0|     2020|    1.9995E7|     Atherton|94027|   CA| 15| 1893.939393939394|\n",
            "| 1546|     1.9E7|Single-Family|      1925|central|          other|       9|     11.0|                     9676.0|          1.0|         156662.0|     2017|     1.295E7|  Los Angeles|90020|   CA| 99|1963.6213311285655|\n",
            "|12566|     1.8E7|Single-Family|      1956|central|air conditioner|       9|     12.0|                    23398.0|          1.0|         179524.0|     2017|    1.7999E7|  Los Angeles|90077|   CA| 68| 769.2965210701769|\n",
            "+-----+----------+-------------+----------+-------+---------------+--------+---------+---------------------------+-------------+-----------------+---------+------------+-------------+-----+-----+---+------------------+\n",
            "only showing top 20 rows\n",
            "\n"
          ]
        }
      ]
    },
    {
      "cell_type": "code",
      "source": [
        "df.printSchema()"
      ],
      "metadata": {
        "colab": {
          "base_uri": "https://localhost:8080/"
        },
        "id": "NGN4HeO49ZPK",
        "outputId": "5f0a55e6-f7b7-4a55-886c-4cdf8e6fc5d5"
      },
      "execution_count": null,
      "outputs": [
        {
          "output_type": "stream",
          "name": "stdout",
          "text": [
            "root\n",
            " |-- Id: integer (nullable = true)\n",
            " |-- Sold price: double (nullable = true)\n",
            " |-- type: string (nullable = true)\n",
            " |-- Year built: integer (nullable = true)\n",
            " |-- heating: string (nullable = true)\n",
            " |-- cooling: string (nullable = true)\n",
            " |-- bedrooms: string (nullable = true)\n",
            " |-- Bathrooms: string (nullable = true)\n",
            " |-- Total interior livable area: string (nullable = true)\n",
            " |-- Garage spaces: double (nullable = true)\n",
            " |-- Annual tax amount: string (nullable = true)\n",
            " |-- Listed on: integer (nullable = true)\n",
            " |-- Listed price: double (nullable = true)\n",
            " |-- City: string (nullable = true)\n",
            " |-- Zip: integer (nullable = true)\n",
            " |-- State: string (nullable = true)\n",
            " |-- Age: integer (nullable = true)\n",
            "\n"
          ]
        }
      ]
    }
  ]
}